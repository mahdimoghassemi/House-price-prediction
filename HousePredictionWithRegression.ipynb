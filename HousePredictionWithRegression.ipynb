{
 "cells": [
  {
   "cell_type": "markdown",
   "metadata": {},
   "source": [
    "# authors: Rambod Azimi & Mahdi Moghassemi\n",
    "# Date: May 2023"
   ]
  },
  {
   "cell_type": "code",
   "execution_count": 1,
   "metadata": {},
   "outputs": [],
   "source": [
    "import numpy as np\n",
    "import math\n",
    "import pandas as pd"
   ]
  },
  {
   "cell_type": "code",
   "execution_count": 15,
   "metadata": {},
   "outputs": [],
   "source": [
    "def replace_data(initial_data):\n",
    "    # \n",
    "\n",
    "    initial_data['mainroad'] = initial_data['mainroad'].replace(['yes'], 1)\n",
    "    initial_data['mainroad'] = initial_data['mainroad'].replace(['no'], 0)\n",
    "    \n",
    "    initial_data['guestroom'] = initial_data['guestroom'].replace(['yes'], 1)\n",
    "    initial_data['guestroom'] = initial_data['guestroom'].replace(['no'], 0)\n",
    "\n",
    "    initial_data['basement'] = initial_data['basement'].replace(['yes'], 1)\n",
    "    initial_data['basement'] = initial_data['basement'].replace(['no'], 0)\n",
    "\n",
    "    initial_data['hotwaterheating'] = initial_data['hotwaterheating'].replace(['yes'], 1)\n",
    "    initial_data['hotwaterheating'] = initial_data['hotwaterheating'].replace(['no'], 0)\n",
    "\n",
    "    initial_data['airconditioning'] = initial_data['airconditioning'].replace(['yes'], 1)\n",
    "    initial_data['airconditioning'] = initial_data['airconditioning'].replace(['no'], 0)\n",
    "\n",
    "    initial_data['prefarea'] = initial_data['prefarea'].replace(['yes'], 1)\n",
    "    initial_data['prefarea'] = initial_data['prefarea'].replace(['no'], 0)\n",
    "\n",
    "    initial_data['furnishingstatus'] = initial_data['furnishingstatus'].replace(['furnished'], 2) \n",
    "    initial_data['furnishingstatus'] = initial_data['furnishingstatus'].replace(['semi-furnished'], 1)\n",
    "    initial_data['furnishingstatus'] = initial_data['furnishingstatus'].replace(['unfurnished'], 0)\n",
    "\n",
    "    return initial_data"
   ]
  },
  {
   "cell_type": "code",
   "execution_count": 44,
   "metadata": {},
   "outputs": [],
   "source": [
    "def predict(x, w, b): \n",
    "    \"\"\"\n",
    "    single predict using linear regression\n",
    "    Args:\n",
    "      x (ndarray): Shape (n,) example with multiple features\n",
    "      w (ndarray): Shape (n,) model parameters   \n",
    "      b (scalar):             model parameter \n",
    "      \n",
    "    Returns:\n",
    "      p (scalar):  prediction\n",
    "    \"\"\"\n",
    "    m = x.shape[0]\n",
    "    p = np.zeros(m)\n",
    "    for i in range(m):\n",
    "      p[i] = (np.dot(x[i,:], w[i,:]) + b[i])   \n",
    "\n",
    "    return p "
   ]
  },
  {
   "cell_type": "code",
   "execution_count": 17,
   "metadata": {},
   "outputs": [
    {
     "name": "stdout",
     "output_type": "stream",
     "text": [
      "[[7420    4    2 ...    2    1    2]\n",
      " [8960    4    4 ...    3    0    2]\n",
      " [9960    3    2 ...    2    1    1]\n",
      " ...\n",
      " [3620    2    1 ...    0    0    0]\n",
      " [2910    3    1 ...    0    0    2]\n",
      " [3850    3    1 ...    0    0    0]]\n"
     ]
    }
   ],
   "source": [
    "initial_data = pd.read_csv('Housing.csv')\n",
    "y_train = initial_data.iloc[:, 0].to_numpy()\n",
    "initial_data = replace_data(initial_data)\n",
    "x_train = initial_data.iloc[:, 1:].to_numpy()\n"
   ]
  },
  {
   "cell_type": "code",
   "execution_count": 19,
   "metadata": {},
   "outputs": [
    {
     "name": "stdout",
     "output_type": "stream",
     "text": [
      "x Shape: (545, 12), X Type:<class 'numpy.ndarray'>)\n",
      "[[7420    4    2 ...    2    1    2]\n",
      " [8960    4    4 ...    3    0    2]\n",
      " [9960    3    2 ...    2    1    1]\n",
      " ...\n",
      " [3620    2    1 ...    0    0    0]\n",
      " [2910    3    1 ...    0    0    2]\n",
      " [3850    3    1 ...    0    0    0]]\n",
      "y Shape: (545,), y Type:<class 'numpy.ndarray'>)\n",
      "[13300000 12250000 12250000 12215000 11410000 10850000 10150000 10150000\n",
      "  9870000  9800000  9800000  9681000  9310000  9240000  9240000  9100000\n",
      "  9100000  8960000  8890000  8855000  8750000  8680000  8645000  8645000\n",
      "  8575000  8540000  8463000  8400000  8400000  8400000  8400000  8400000\n",
      "  8295000  8190000  8120000  8080940  8043000  7980000  7962500  7910000\n",
      "  7875000  7840000  7700000  7700000  7560000  7560000  7525000  7490000\n",
      "  7455000  7420000  7420000  7420000  7350000  7350000  7350000  7350000\n",
      "  7343000  7245000  7210000  7210000  7140000  7070000  7070000  7035000\n",
      "  7000000  6930000  6930000  6895000  6860000  6790000  6790000  6755000\n",
      "  6720000  6685000  6650000  6650000  6650000  6650000  6650000  6650000\n",
      "  6629000  6615000  6615000  6580000  6510000  6510000  6510000  6475000\n",
      "  6475000  6440000  6440000  6419000  6405000  6300000  6300000  6300000\n",
      "  6300000  6300000  6293000  6265000  6230000  6230000  6195000  6195000\n",
      "  6195000  6160000  6160000  6125000  6107500  6090000  6090000  6090000\n",
      "  6083000  6083000  6020000  6020000  6020000  5950000  5950000  5950000\n",
      "  5950000  5950000  5950000  5950000  5950000  5943000  5880000  5880000\n",
      "  5873000  5873000  5866000  5810000  5810000  5810000  5803000  5775000\n",
      "  5740000  5740000  5740000  5740000  5740000  5652500  5600000  5600000\n",
      "  5600000  5600000  5600000  5600000  5600000  5600000  5600000  5565000\n",
      "  5565000  5530000  5530000  5530000  5523000  5495000  5495000  5460000\n",
      "  5460000  5460000  5460000  5425000  5390000  5383000  5320000  5285000\n",
      "  5250000  5250000  5250000  5250000  5250000  5250000  5250000  5250000\n",
      "  5250000  5243000  5229000  5215000  5215000  5215000  5145000  5145000\n",
      "  5110000  5110000  5110000  5110000  5075000  5040000  5040000  5040000\n",
      "  5040000  5033000  5005000  4970000  4970000  4956000  4935000  4907000\n",
      "  4900000  4900000  4900000  4900000  4900000  4900000  4900000  4900000\n",
      "  4900000  4900000  4900000  4900000  4893000  4893000  4865000  4830000\n",
      "  4830000  4830000  4830000  4795000  4795000  4767000  4760000  4760000\n",
      "  4760000  4753000  4690000  4690000  4690000  4690000  4690000  4690000\n",
      "  4655000  4620000  4620000  4620000  4620000  4620000  4613000  4585000\n",
      "  4585000  4550000  4550000  4550000  4550000  4550000  4550000  4550000\n",
      "  4543000  4543000  4515000  4515000  4515000  4515000  4480000  4480000\n",
      "  4480000  4480000  4480000  4473000  4473000  4473000  4445000  4410000\n",
      "  4410000  4403000  4403000  4403000  4382000  4375000  4340000  4340000\n",
      "  4340000  4340000  4340000  4319000  4305000  4305000  4277000  4270000\n",
      "  4270000  4270000  4270000  4270000  4270000  4235000  4235000  4200000\n",
      "  4200000  4200000  4200000  4200000  4200000  4200000  4200000  4200000\n",
      "  4200000  4200000  4200000  4200000  4200000  4200000  4200000  4200000\n",
      "  4193000  4193000  4165000  4165000  4165000  4130000  4130000  4123000\n",
      "  4098500  4095000  4095000  4095000  4060000  4060000  4060000  4060000\n",
      "  4060000  4025000  4025000  4025000  4007500  4007500  3990000  3990000\n",
      "  3990000  3990000  3990000  3920000  3920000  3920000  3920000  3920000\n",
      "  3920000  3920000  3885000  3885000  3850000  3850000  3850000  3850000\n",
      "  3850000  3850000  3850000  3836000  3815000  3780000  3780000  3780000\n",
      "  3780000  3780000  3780000  3773000  3773000  3773000  3745000  3710000\n",
      "  3710000  3710000  3710000  3710000  3703000  3703000  3675000  3675000\n",
      "  3675000  3675000  3640000  3640000  3640000  3640000  3640000  3640000\n",
      "  3640000  3640000  3640000  3633000  3605000  3605000  3570000  3570000\n",
      "  3570000  3570000  3535000  3500000  3500000  3500000  3500000  3500000\n",
      "  3500000  3500000  3500000  3500000  3500000  3500000  3500000  3500000\n",
      "  3500000  3500000  3500000  3500000  3493000  3465000  3465000  3465000\n",
      "  3430000  3430000  3430000  3430000  3430000  3430000  3423000  3395000\n",
      "  3395000  3395000  3360000  3360000  3360000  3360000  3360000  3360000\n",
      "  3360000  3360000  3353000  3332000  3325000  3325000  3290000  3290000\n",
      "  3290000  3290000  3290000  3290000  3290000  3290000  3255000  3255000\n",
      "  3234000  3220000  3220000  3220000  3220000  3150000  3150000  3150000\n",
      "  3150000  3150000  3150000  3150000  3150000  3150000  3143000  3129000\n",
      "  3118850  3115000  3115000  3115000  3087000  3080000  3080000  3080000\n",
      "  3080000  3045000  3010000  3010000  3010000  3010000  3010000  3010000\n",
      "  3010000  3003000  2975000  2961000  2940000  2940000  2940000  2940000\n",
      "  2940000  2940000  2940000  2940000  2870000  2870000  2870000  2870000\n",
      "  2852500  2835000  2835000  2835000  2800000  2800000  2730000  2730000\n",
      "  2695000  2660000  2660000  2660000  2660000  2660000  2660000  2660000\n",
      "  2653000  2653000  2604000  2590000  2590000  2590000  2520000  2520000\n",
      "  2520000  2485000  2485000  2450000  2450000  2450000  2450000  2450000\n",
      "  2450000  2408000  2380000  2380000  2380000  2345000  2310000  2275000\n",
      "  2275000  2275000  2240000  2233000  2135000  2100000  2100000  2100000\n",
      "  1960000  1890000  1890000  1855000  1820000  1767150  1750000  1750000\n",
      "  1750000]\n"
     ]
    }
   ],
   "source": [
    "# data is stored in numpy array/matrix\n",
    "print(f\"x Shape: {x_train.shape}, X Type:{type(x_train)})\")\n",
    "print(x_train)\n",
    "print(f\"y Shape: {y_train.shape}, y Type:{type(y_train)})\")\n",
    "print(y_train)"
   ]
  },
  {
   "cell_type": "code",
   "execution_count": 45,
   "metadata": {},
   "outputs": [
    {
     "name": "stdout",
     "output_type": "stream",
     "text": [
      "(545,)\n"
     ]
    }
   ],
   "source": [
    "initial_w = np.zeros((x_train.shape[0], x_train.shape[1]))\n",
    "# print(w.shape)\n",
    "initial_b = np.zeros(x_train.shape[0])\n",
    "# print(b.shape)\n",
    "f_wb = predict(x_train,initial_w, initial_b)\n",
    "\n",
    "print(f_wb.shape)\n"
   ]
  },
  {
   "cell_type": "code",
   "execution_count": null,
   "metadata": {},
   "outputs": [],
   "source": []
  }
 ],
 "metadata": {
  "kernelspec": {
   "display_name": "Python 3.10.6 64-bit",
   "language": "python",
   "name": "python3"
  },
  "language_info": {
   "codemirror_mode": {
    "name": "ipython",
    "version": 3
   },
   "file_extension": ".py",
   "mimetype": "text/x-python",
   "name": "python",
   "nbconvert_exporter": "python",
   "pygments_lexer": "ipython3",
   "version": "3.10.6"
  },
  "orig_nbformat": 4,
  "vscode": {
   "interpreter": {
    "hash": "369f2c481f4da34e4445cda3fffd2e751bd1c4d706f27375911949ba6bb62e1c"
   }
  }
 },
 "nbformat": 4,
 "nbformat_minor": 2
}
